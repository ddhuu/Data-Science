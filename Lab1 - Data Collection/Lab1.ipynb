{
 "cells": [
  {
   "cell_type": "markdown",
   "metadata": {},
   "source": [
    "## Lab01: Collect and preprocess data\n",
    "\n",
    "- Name: ĐOÀN ĐỨC HỮU\n",
    "- Student code: 21120465\n"
   ]
  },
  {
   "cell_type": "markdown",
   "metadata": {},
   "source": [
    "---\n",
    "\n",
    "## How to do and submit your assignment\n",
    "\n",
    "**Work on your assignment**\n",
    "\n",
    "You will do your assignment directly in this notebook. First, fill in your name and ID at the beginning of the file. In the notebook, fill in places that say:\n",
    "\n",
    "```python\n",
    "#TODO\n",
    "```\n",
    "\n",
    "During your work, you can print out the result, create more cells to test, or create more functions to handle things. Please note that <font color=red>you are not allowed to delete or modify my code cells</font> (except in the case that mentioned above). Let remove `raise NotImplementedError(\"not implement\")` when running code.\n",
    "\n",
    "Always press `Ctrl + S` in order to save your work.\n",
    "\n",
    "**Notes:**\n",
    "\n",
    "    *  Copy means zero\n",
    "    *  You have to submit your work on time. No exception\n",
    "    *  Any questions about your grade are based on the assignment submitted on Moodle\n",
    "    *  Wrong submission takes you -2 points\n",
    "\n",
    "**Submission guideline**\n",
    "\n",
    "When grading your assignment, I will choose `Kernel` - `Restart Kernel & Run All Cells` in order to restart the kernel and run all cells in your notebook. Therefore, you should do that before submitting to ensure that the outputs are all as expected.\n",
    "\n",
    "After that, you make a submited direction as follow:\n",
    "\n",
    "- Folder `StudentCode` (e.g. If your student code is 1234567, then your folder is `1234567`)\n",
    "  - File `<StudentCode>.ipynb` (e.g. If your student code is 1234567, then your file is `1234567.ipynb`)\n",
    "\n",
    "Finally, you compress your folder (`StudentCode`) and submit on Moodle. **The extension of the file is nothing else but `.zip`.**\n",
    "\n",
    "<font color=red>Please strictly follow the submission rules.</font>\n"
   ]
  },
  {
   "cell_type": "markdown",
   "metadata": {},
   "source": [
    "# 1. Set-up environment\n"
   ]
  },
  {
   "cell_type": "code",
   "execution_count": 3,
   "metadata": {
    "ExecuteTime": {
     "end_time": "2023-10-20T10:23:22.064086Z",
     "start_time": "2023-10-20T10:23:19.868210100Z"
    }
   },
   "outputs": [],
   "source": [
    "#Necessary Packages\n",
    "import time\n",
    "import requests\n",
    "import numpy as np\n",
    "import pandas as pd \n",
    "from bs4 import BeautifulSoup\n",
    "import re\n",
    "# If you need other support packages"
   ]
  },
  {
   "cell_type": "markdown",
   "metadata": {},
   "source": [
    "# 2. Collect data from a website by parsing HTML (3p)\n"
   ]
  },
  {
   "cell_type": "markdown",
   "metadata": {},
   "source": [
    "In this section, you are going to collect data from a website simulating the sale of Pokemon. I have prepared all the needed links in a file (`pokemon.txt`), and you have to crawl data from these links. The expected output is a `dataframe` with the following fields:\n",
    "\n",
    "- `SKU`: ID of Pokemon\n",
    "- `Name`: Name of Pokemon\n",
    "- `Price`: Price of Pokemon\n",
    "- `InStock`: Quantity of Pokemons in stock\n",
    "- `Categories`: The category of Pokemon\n",
    "- `Tags`: Tags of Pokemon\n",
    "\n",
    "Your mission is to complete function `collect_data` with `course_urls_file` as your input parameter. The output should look like `pokemon_example.csv` (I list out some examples so you can easily imagine your work).\n"
   ]
  },
  {
   "cell_type": "code",
   "execution_count": 4,
   "metadata": {
    "ExecuteTime": {
     "end_time": "2023-10-20T10:23:22.221908400Z",
     "start_time": "2023-10-20T10:23:22.048450100Z"
    }
   },
   "outputs": [
    {
     "data": {
      "text/html": [
       "<div>\n",
       "<style scoped>\n",
       "    .dataframe tbody tr th:only-of-type {\n",
       "        vertical-align: middle;\n",
       "    }\n",
       "\n",
       "    .dataframe tbody tr th {\n",
       "        vertical-align: top;\n",
       "    }\n",
       "\n",
       "    .dataframe thead th {\n",
       "        text-align: right;\n",
       "    }\n",
       "</style>\n",
       "<table border=\"1\" class=\"dataframe\">\n",
       "  <thead>\n",
       "    <tr style=\"text-align: right;\">\n",
       "      <th></th>\n",
       "      <th>SKU</th>\n",
       "      <th>Name</th>\n",
       "      <th>Price</th>\n",
       "      <th>InStock</th>\n",
       "      <th>Categories</th>\n",
       "      <th>Tags</th>\n",
       "    </tr>\n",
       "  </thead>\n",
       "  <tbody>\n",
       "    <tr>\n",
       "      <th>0</th>\n",
       "      <td>4391</td>\n",
       "      <td>Bulbasaur</td>\n",
       "      <td>63.0</td>\n",
       "      <td>45</td>\n",
       "      <td>Pokemon, Seed</td>\n",
       "      <td>bulbasaur, Overgrow, Seed</td>\n",
       "    </tr>\n",
       "    <tr>\n",
       "      <th>1</th>\n",
       "      <td>7227</td>\n",
       "      <td>Ivysaur</td>\n",
       "      <td>87.0</td>\n",
       "      <td>142</td>\n",
       "      <td>Pokemon, Seed</td>\n",
       "      <td>ivysaur, Overgrow, Seed</td>\n",
       "    </tr>\n",
       "    <tr>\n",
       "      <th>2</th>\n",
       "      <td>7036</td>\n",
       "      <td>Venusaur</td>\n",
       "      <td>105.0</td>\n",
       "      <td>30</td>\n",
       "      <td>Pokemon, Seed</td>\n",
       "      <td>Overgrow, Seed, venusaur</td>\n",
       "    </tr>\n",
       "    <tr>\n",
       "      <th>3</th>\n",
       "      <td>9086</td>\n",
       "      <td>Charmander</td>\n",
       "      <td>48.0</td>\n",
       "      <td>206</td>\n",
       "      <td>Lizard, Pokemon</td>\n",
       "      <td>Blaze, charmander, Lizard</td>\n",
       "    </tr>\n",
       "    <tr>\n",
       "      <th>4</th>\n",
       "      <td>6565</td>\n",
       "      <td>Charmeleon</td>\n",
       "      <td>165.0</td>\n",
       "      <td>284</td>\n",
       "      <td>Flame, Pokemon</td>\n",
       "      <td>Blaze, charmeleon, Flame</td>\n",
       "    </tr>\n",
       "  </tbody>\n",
       "</table>\n",
       "</div>"
      ],
      "text/plain": [
       "    SKU        Name  Price  InStock       Categories  \\\n",
       "0  4391   Bulbasaur   63.0       45    Pokemon, Seed   \n",
       "1  7227     Ivysaur   87.0      142    Pokemon, Seed   \n",
       "2  7036    Venusaur  105.0       30    Pokemon, Seed   \n",
       "3  9086  Charmander   48.0      206  Lizard, Pokemon   \n",
       "4  6565  Charmeleon  165.0      284   Flame, Pokemon   \n",
       "\n",
       "                        Tags  \n",
       "0  bulbasaur, Overgrow, Seed  \n",
       "1    ivysaur, Overgrow, Seed  \n",
       "2   Overgrow, Seed, venusaur  \n",
       "3  Blaze, charmander, Lizard  \n",
       "4   Blaze, charmeleon, Flame  "
      ]
     },
     "execution_count": 4,
     "metadata": {},
     "output_type": "execute_result"
    }
   ],
   "source": [
    "pokemon_example = pd.read_csv('pokemon_example.csv')\n",
    "pokemon_example"
   ]
  },
  {
   "cell_type": "code",
   "execution_count": 5,
   "metadata": {
    "ExecuteTime": {
     "end_time": "2023-10-20T10:23:22.221908400Z",
     "start_time": "2023-10-20T10:23:22.127946600Z"
    }
   },
   "outputs": [],
   "source": [
    "def collect_data(course_urls_file):\n",
    "    #load paths from file\n",
    "    url_file = open(course_urls_file)\n",
    "    urls = url_file.readlines()\n",
    "    urls_filtered = [item[:-1] for item in urls]\n",
    "    \n",
    "    #init empty list to store the values of each attribute.\n",
    "    SKU = []\n",
    "    Names = []\n",
    "    Prices = []\n",
    "    InStocks = []\n",
    "    Categories = []\n",
    "    Tags = []\n",
    "\n",
    "    for url in urls_filtered:\n",
    "        CLASS_SKU ='sku'\n",
    "        CLASS_NAME = 'product_title entry-title'\n",
    "        CLASS_PRICE = 'price'\n",
    "        CLASS_INSTOCK = 'stock in-stock'\n",
    "        CLASS_CATEGORY = 'posted_in'\n",
    "        CLASS_TAG = 'tagged_as'\n",
    "        r = requests.get(url)\n",
    "        r.encoding = 'utf-8'\n",
    "        soup = BeautifulSoup(r.text, 'html.parser')\n",
    "        # Get SKU\n",
    "        v = soup.find(name ='span',attrs={'class':CLASS_SKU} )\n",
    "        sku = v.text if v is not None else str(v)\n",
    "        SKU.append(sku)\n",
    "\n",
    "        #Get Name\n",
    "        v = soup.find(name ='h1',attrs={'class':CLASS_NAME} )\n",
    "        name = v.text if v is not None else str(v)\n",
    "        Names.append(name);\n",
    "\n",
    "        #Get Price\n",
    "        v = soup.find(name ='p',attrs={'class':CLASS_PRICE} )\n",
    "        if v is not None:\n",
    "          price = v.span.text\n",
    "          price = price.replace('£', '').strip()\n",
    "          Prices.append(price)\n",
    "        else:\n",
    "          Prices.append(None)\n",
    "\n",
    "        #Get Stock\n",
    "        v = soup.find(name ='p',attrs={'class':CLASS_INSTOCK} )\n",
    "        if v is not None:\n",
    "            stock = v.text\n",
    "            match = re.search(r'\\d+', stock)\n",
    "            if match:\n",
    "               stock = match.group()\n",
    "               InStocks.append(stock)\n",
    "            else:\n",
    "                InStocks.append(None)\n",
    "\n",
    "        #Get categories\n",
    "        v = soup.find(name='span',attrs={'class':CLASS_CATEGORY})\n",
    "        if v:\n",
    "            categories = ', '.join([a.text for a in v.find_all('a')])\n",
    "            Categories.append(categories)\n",
    "        else:\n",
    "            Categories.append(None)\n",
    "\n",
    "        #Get Tags\n",
    "        v = soup.find(name='span',attrs={'class':CLASS_TAG})\n",
    "        if v:\n",
    "            tags =','.join( [a.text for a in v.find_all('a')])\n",
    "            Tags.append(tags)\n",
    "        else:\n",
    "            Tags.append(None)\n",
    "        #raise NotImplementedError(\"not implement\")\n",
    "    \n",
    "    data = pd.DataFrame({\"SKU\": SKU,\n",
    "                         \"Name\": Names,\n",
    "                         \"Price\": Prices, \n",
    "                         \"InStock\": InStocks,\n",
    "                         \"Categories\": Categories,\n",
    "                         \"Tags\": Tags})\n",
    "    \n",
    "    return data"
   ]
  },
  {
   "cell_type": "code",
   "execution_count": null,
   "metadata": {
    "ExecuteTime": {
     "start_time": "2023-10-20T10:23:22.159381700Z"
    },
    "is_executing": true
   },
   "outputs": [],
   "source": [
    "#TEST\n",
    "data_pokemon = collect_data(\"pokemon.txt\") \n",
    "assert data_pokemon.shape == (755, 6)"
   ]
  },
  {
   "cell_type": "code",
   "execution_count": null,
   "metadata": {
    "is_executing": true
   },
   "outputs": [],
   "source": [
    "#Save to csv file with name pokemon.csv\n",
    "data_pokemon.to_csv('pokemon.csv',index = False)\n",
    "#raise NotImplementedError(\"not implement\")"
   ]
  },
  {
   "cell_type": "markdown",
   "metadata": {},
   "source": [
    "# 3. Collect data using Web API (4p)\n"
   ]
  },
  {
   "cell_type": "markdown",
   "metadata": {},
   "source": [
    "In this section, your work is to practice to crawl data using Web API (http://api.worldbank.org/v2/country/all/indicator/SP.POP.TOTL). This is the data of World Bank which includes demographic data and other statistics related to Population, Employment, Health, GDP, Energy Consumption,... for all countries in the world from 1960 to 2022.\n",
    "\n",
    "From the following selected indicators:\n",
    "\n",
    "- `SP.POP.TOTL` - Total population\n",
    "- `SP.POP.TOTL.FE.IN` - Total female population\n",
    "- `SP.POP.TOTL.MA.IN` - Total male population\n",
    "- `SP.DYN.CBRT.IN` - Birth rate\n",
    "- `SP.DYN.CDRT.IN` - Death rate\n",
    "- `SP.DYN.LE00.MA.IN` - Average life expectancy of male\n",
    "- `SP.DYN.LE00.FE.IN` - Average life expectancy of female\n",
    "- `SE.PRM.ENRR` - Primary school enrollment rate\n",
    "- `SE.TER.ENRR` - High school enrollment rate\n",
    "- `SE.PRM.CMPT.ZS` - Primary completion rate\n",
    "- `SE.ADT.1524.LT.ZS` - Literacy rate of people ages 15-24\n",
    "\n",
    "You are required to collect data from 7 countries and save to dataframe `data_countries`:\n",
    "\n",
    "- `US` - United States of America\n",
    "- `IN` - India\n",
    "- `CN` - China\n",
    "- `JP` - Japan\n",
    "- `CA` - Canada\n",
    "- `GB` - Great Britain\n",
    "- `ZA` - South Africa\n",
    "\n",
    "You can expand your work on collecting data (such as collecting data from other countries and other indicators) by reading: https://datahelpdesk.worldbank.org/knowledgebase/articles/889392-api-documentation\n",
    "\n",
    "**Hints**:\n",
    "\n",
    "- Use the based URL: http://api.worldbank.org/v2/\n",
    "- In order to collect data for each indicator of each country, you can use the URL: \"http://api.worldbank.org/v2/countries/{country_code}/indicators/{indicator_code}\"\n",
    "  - `country_code` and `indicator_code` are provided above.\n",
    "  - For example, you can use the following URL to get the `Total population` of Japan: http://api.worldbank.org/v2/countries/jp/indicators/SP.POP.TOTL\n"
   ]
  },
  {
   "cell_type": "code",
   "execution_count": null,
   "metadata": {
    "is_executing": true
   },
   "outputs": [],
   "source": [
    "data_countries_examples = pd.read_csv(\"countries_example.csv\")\n",
    "data_countries_examples"
   ]
  },
  {
   "cell_type": "code",
   "execution_count": null,
   "metadata": {
    "is_executing": true
   },
   "outputs": [],
   "source": [
    "BASE_URL = 'http://api.worldbank.org/v2/'\n",
    "COUNTRIES = [\"US\", \"IN\", \"CN\", \"JP\", \"CA\", \"GB\", \"ZA\"]\n",
    "INDICATORS = ['SP.POP.TOTL', \n",
    "             'SP.POP.TOTL.FE.IN', \n",
    "             'SP.POP.TOTL.MA.IN',\n",
    "             'SP.DYN.CBRT.IN', \n",
    "             'SP.DYN.CDRT.IN',\n",
    "             'SP.DYN.LE00.MA.IN',\n",
    "             'SP.DYN.LE00.FE.IN',\n",
    "             'SE.PRM.ENRR',\n",
    "             'SE.TER.ENRR',\n",
    "             'SE.PRM.CMPT.ZS',\n",
    "             'SE.ADT.1524.LT.ZS']\n",
    "\n",
    "TITLE = ['Total Population',\n",
    "         'Female Population',\n",
    "         'Male Population',\n",
    "         'Birth Rate',\n",
    "         'Death Rate',\n",
    "         'Male Life Expectancy',\n",
    "         'Female Life Expectancy',\n",
    "         \"School Enrollment, Primary\",\n",
    "         \"School Enrollment, Tertiary\",\n",
    "         'Primary completion rate',\n",
    "         'Literacy Rate',\n",
    "         'Year'\n",
    "]\n",
    "# If you need other initializations"
   ]
  },
  {
   "cell_type": "code",
   "execution_count": null,
   "metadata": {
    "is_executing": true
   },
   "outputs": [],
   "source": [
    "def collect_data(countryCode, per_page, start_year, end_year):\n",
    "    params = dict()\n",
    "    params['format'] = 'json'\n",
    "    params['per_page'] = per_page\n",
    "    params['date'] = str(start_year)+':'+str(end_year)\n",
    "    dataList = []\n",
    "    for indicator in INDICATORS:\n",
    "        url = BASE_URL + 'countries/'+countryCode.lower()+'/indicators/'+indicator\n",
    "        res = requests.get(url,params = params)\n",
    "        if (res.status_code == 200) and (\"message\" not in res.json()[0].keys()):\n",
    "            val = []\n",
    "            if len(res.json()) > 1:\n",
    "                for obj in  res.json()[1]:\n",
    "                    if obj['value'] == \"\" or obj['value'] == None:\n",
    "                        val.append(None)\n",
    "                    else:\n",
    "                        val.append(float(obj['value']))\n",
    "            dataList.append(val)\n",
    "        else:\n",
    "            print('Error'+str(res.status_code))\n",
    "            \n",
    "    dataList.append([year for year in range(end_year,start_year -1 ,-1)])\n",
    "    df = pd.DataFrame(np.column_stack(dataList),columns = TITLE)\n",
    "    df['Country'] = countryCode\n",
    "    return df\n",
    "\n",
    "    #raise NotImplementedError(\"not implement\")"
   ]
  },
  {
   "cell_type": "code",
   "execution_count": null,
   "metadata": {
    "is_executing": true
   },
   "outputs": [],
   "source": [
    "def Generate_Countries_Dataset(countryCode_list):\n",
    "    data = pd.DataFrame()\n",
    "    for countryCode in countryCode_list:\n",
    "        data = pd.concat([data, collect_data(countryCode = countryCode, per_page = 100, start_year = 2000, end_year = 2022)], axis=0)\n",
    "    return data"
   ]
  },
  {
   "cell_type": "code",
   "execution_count": null,
   "metadata": {
    "is_executing": true
   },
   "outputs": [],
   "source": [
    "#TEST\n",
    "data_countries = Generate_Countries_Dataset(COUNTRIES)\n",
    "assert data_countries.shape == (161, 13)"
   ]
  },
  {
   "cell_type": "code",
   "execution_count": null,
   "metadata": {
    "is_executing": true
   },
   "outputs": [],
   "source": [
    "# Save to csv file with name coutries.csv\n",
    "data_countries.to_csv('./countries.csv',index = False)\n",
    "#raise NotImplementedError(\"not implement\")"
   ]
  }
 ],
 "metadata": {
  "kernelspec": {
   "display_name": "Python 3 (ipykernel)",
   "language": "python",
   "name": "python3"
  },
  "language_info": {
   "codemirror_mode": {
    "name": "ipython",
    "version": 3
   },
   "file_extension": ".py",
   "mimetype": "text/x-python",
   "name": "python",
   "nbconvert_exporter": "python",
   "pygments_lexer": "ipython3",
   "version": "3.11.5"
  }
 },
 "nbformat": 4,
 "nbformat_minor": 2
}
